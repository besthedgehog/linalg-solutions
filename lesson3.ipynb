{
 "cells": [
  {
   "cell_type": "code",
   "execution_count": 7,
   "metadata": {},
   "outputs": [
    {
     "name": "stdout",
     "output_type": "stream",
     "text": [
      "Hello world\n"
     ]
    }
   ],
   "source": [
    "print('Hello world')"
   ]
  },
  {
   "cell_type": "markdown",
   "metadata": {},
   "source": [
    "## Решение системы уравнений методом Ньютона"
   ]
  },
  {
   "cell_type": "markdown",
   "metadata": {},
   "source": [
    "$$ \\begin{cases}\n",
    "   f_1(x_1) = 0 \n",
    "   \\\\\n",
    "   f_2(x_2) = 0\n",
    "   \\\\\n",
    "   \\dots\n",
    "   \\\\\n",
    "   f_n(x_n) = 0\n",
    " \\end{cases}$$"
   ]
  },
  {
   "cell_type": "markdown",
   "metadata": {},
   "source": [
    "Введём обозначения\n",
    "$$ x = (x_1, x_2, ..., x_n)^{T} $$\n",
    "$$F(x) = [f_1(x), f_2(x), ..., f_n(x)]^{T}$$\n",
    "$$\\Delta x^{k} = x^{k+1} - x^{k} $$"
   ]
  },
  {
   "cell_type": "markdown",
   "metadata": {},
   "source": [
    "$$\n",
    "W = \\left(\n",
    "\\begin{array}{cccc}\n",
    "\\frac{\\partial f_1}{\\partial x_1} & \\frac{\\partial f_1}{\\partial x_2} & \\ldots & \\frac{\\partial f_1}{\\partial x_n}\\\\\n",
    "\n",
    "\\frac{\\partial f_2}{\\partial x_1} & \\frac{\\partial f_2}{\\partial x_2} & \\ldots & \\frac{\\partial f_2}{\\partial x_n}\\\\\n",
    "\n",
    "\\vdots & \\vdots & \\ddots & \\vdots\\\\\n",
    "\n",
    "\\frac{\\partial f_n}{\\partial x_1} & \\frac{\\partial f_n}{\\partial x_2} & \\ldots & \\frac{\\partial f_n}{\\partial x_n}\n",
    "\\end{array}\n",
    "\\right)\n",
    "$$"
   ]
  },
  {
   "cell_type": "markdown",
   "metadata": {},
   "source": [
    "##### Формула для нахождения решения\n",
    "\n",
    "$$ x^{k+1} = x^{k} - W^{-1}(x^{k})*F(x^{k}) $$ "
   ]
  },
  {
   "cell_type": "markdown",
   "metadata": {},
   "source": [
    "Преобразуем её к виду\n",
    "$$ W(x^{k})*\\Delta x = -F(x^{k}) $$\n",
    "\n",
    "\n",
    "Получили матричное уравнение, которое мы будем решать относительно  $\\Delta x $\n",
    "\n",
    "Будем использовать метод Гаусса"
   ]
  },
  {
   "cell_type": "markdown",
   "metadata": {},
   "source": [
    "### Алгоритм\n",
    "1) Задать начальное приближение и точность \n",
    "1) Решить систему уравнений относительно $ \\Delta x$\n",
    "1) Вычислить следущее приближение  \n",
    "$ \\Delta x^{k} = x^{k+1} - x^{k}  $\n",
    "\n",
    "1) Если \n",
    "$$ \\underset{i}{max} (|x_i^{k+1} - x_i^{k}|) < \\epsilon $$\n",
    "то решение найдено, \n",
    "$$x = x_i^{k+1}$$\n",
    "иначе идём к шагу 2"
   ]
  },
  {
   "cell_type": "markdown",
   "metadata": {},
   "source": [
    "#### Приступаем к заданию"
   ]
  },
  {
   "cell_type": "markdown",
   "metadata": {},
   "source": [
    "Наша система\n",
    "$$ \\begin{cases}\n",
    "   x^2 + y^2 - 1 = 0\n",
    "   \\\\\n",
    "   e^{-x^{2}}* e^{-2y^{2}} - 0.25 = 0\n",
    " \\end{cases}$$"
   ]
  },
  {
   "cell_type": "markdown",
   "metadata": {},
   "source": [
    "$$ \\begin{cases}\n",
    "    y = \\pm \\sqrt {1 - x ^2}\n",
    "   \\\\\n",
    "   y = \\pm \\sqrt{ -\\frac{1}{2}  * ln(0.25 * e^{x^{2}})}\n",
    " \\end{cases}$$"
   ]
  },
  {
   "cell_type": "code",
   "execution_count": 8,
   "metadata": {},
   "outputs": [
    {
     "name": "stderr",
     "output_type": "stream",
     "text": [
      "/var/folders/m7/h7f85n8j74nb5tj4z8vtd28w0000gn/T/ipykernel_4108/1745641142.py:6: RuntimeWarning: invalid value encountered in sqrt\n",
      "  return np.sqrt(\n"
     ]
    },
    {
     "data": {
      "text/plain": [
       "array([       nan,        nan,        nan,        nan,        nan,\n",
       "              nan,        nan,        nan, 0.61766725, 0.81149316,\n",
       "       0.81149316, 0.61766725,        nan,        nan,        nan,\n",
       "              nan,        nan,        nan,        nan,        nan])"
      ]
     },
     "execution_count": 8,
     "metadata": {},
     "output_type": "execute_result"
    }
   ],
   "source": [
    "import numpy as np\n",
    "\n",
    "x = np.linspace(-5, 5, 20)\n",
    "\n",
    "def f(x):\n",
    "    return np.sqrt(\n",
    "        -0.5 * np.log(\n",
    "            0.25 * np.exp(x**2)\n",
    "        )\n",
    "    )\n",
    "\n",
    "y = f(x)\n",
    "y"
   ]
  },
  {
   "cell_type": "code",
   "execution_count": 9,
   "metadata": {},
   "outputs": [
    {
     "data": {
      "text/plain": [
       "[5, 7]"
      ]
     },
     "execution_count": 9,
     "metadata": {},
     "output_type": "execute_result"
    }
   ],
   "source": [
    "import sympy\n",
    "\n",
    "x = sympy.Symbol('x')\n",
    "sympy.solve(x**2 - 12*x + 35, x)"
   ]
  },
  {
   "cell_type": "code",
   "execution_count": 10,
   "metadata": {},
   "outputs": [
    {
     "data": {
      "text/latex": [
       "$\\displaystyle 5.0$"
      ],
      "text/plain": [
       "5.00000000000000"
      ]
     },
     "execution_count": 10,
     "metadata": {},
     "output_type": "execute_result"
    }
   ],
   "source": [
    "import sympy\n",
    "\n",
    "x = sympy.Symbol('x')\n",
    "sympy.solvers.solvers.nsolve(x**2 - 12*x + 35, x, 0)"
   ]
  },
  {
   "cell_type": "markdown",
   "metadata": {},
   "source": [
    "Нарисуем графики функций, чтобы приблизительно прикинуть решения системы"
   ]
  },
  {
   "cell_type": "code",
   "execution_count": 68,
   "metadata": {},
   "outputs": [
    {
     "data": {
      "image/png": "[encoded data removed]",
      "text/plain": [
       "<Figure size 640x480 with 1 Axes>"
      ]
     },
     "metadata": {},
     "output_type": "display_data"
    }
   ],
   "source": [
    "import numpy as np\n",
    "import matplotlib.pyplot as plt\n",
    "\n",
    "def equation(x, y):\n",
    "    return np.exp(-x**2) * np.exp(-2*y**2) - 0.25\n",
    "\n",
    "def equation1(x,y):\n",
    "    return x**2 + y**2 - 1\n",
    "\n",
    "\n",
    "# Create a grid of x and y values\n",
    "x = np.linspace(-3, 3, 100) \n",
    "y = np.linspace(-3, 3, 100)\n",
    "X, Y = np.meshgrid(x, y)\n",
    "\n",
    "#X - в каждой строке 100 чисел от -3 до 3 с определённым шагом\n",
    "#Y – в каждой строке 100 одинаковых чисел. По строкам значения меняются от -3 до 3 с определённым шагом\n",
    "\n",
    "\n",
    "#Функция np.meshgrid(x, y) создает координатные сетки X и Y,\n",
    "#  где X содержит повторяющиеся значения координат x в строках,\n",
    "#  а Y содержит повторяющиеся значения координат y в столбцах. \n",
    "# Это позволяет нам оценить значения функций equation и equation1 для \n",
    "# каждой точки в координатной сетке, используя X и Y.\n",
    "\n",
    "\n",
    "\n",
    "# Evaluate the equation for all points in the grid\n",
    "Z = equation(X, Y)\n",
    "Z1 = equation1(X, Y)\n",
    "\n",
    "# Plot the equation using Matplotlib\n",
    "plt.contour(X, Y, Z, levels=[0])\n",
    "plt.contour(X, Y, Z1, levels=[0])\n",
    "plt.xlabel('x')\n",
    "plt.ylabel('y')\n",
    "plt.grid()\n",
    "plt.title('Графики')\n",
    "plt.show()"
   ]
  },
  {
   "cell_type": "markdown",
   "metadata": {},
   "source": [
    "Видим, что у нас есть 4 действительных решения\n",
    "\n",
    "$$ x \\approx \\pm 0.7 $$\n",
    "$$ y \\approx \\pm 0.6 $$\n",
    "\n",
    "Если более точно, то \n",
    "$$ x \\approx \\pm 0.783394 $$\n",
    "$$ y \\approx \\pm 0.621526 $$"
   ]
  },
  {
   "cell_type": "markdown",
   "metadata": {},
   "source": [
    "Итак нашим начальным приближением будет (возьмем менее точно для примера)\n",
    "\n",
    "$$ x = (0.7, 0.6) $$"
   ]
  },
  {
   "cell_type": "code",
   "execution_count": 13,
   "metadata": {},
   "outputs": [
    {
     "data": {
      "text/latex": [
       "$\\displaystyle 2 x$"
      ],
      "text/plain": [
       "2*x"
      ]
     },
     "execution_count": 13,
     "metadata": {},
     "output_type": "execute_result"
    }
   ],
   "source": [
    "### Возьмем производные\n",
    "# (можно взять и вручную, но так программисты не поступают)\n",
    "\n",
    "import sympy \n",
    "\n",
    "x, y = sympy.symbols('x y')\n",
    "F1 = x**2 + y**2 - 1\n",
    "\n",
    "dF1_dx = sympy.diff(F1, x)\n",
    "dF1_dy = sympy.diff(F1, y)\n",
    "\n",
    "dF1_dx"
   ]
  },
  {
   "cell_type": "code",
   "execution_count": 14,
   "metadata": {},
   "outputs": [
    {
     "data": {
      "text/latex": [
       "$\\displaystyle 2 y$"
      ],
      "text/plain": [
       "2*y"
      ]
     },
     "execution_count": 14,
     "metadata": {},
     "output_type": "execute_result"
    }
   ],
   "source": [
    "dF1_dy"
   ]
  },
  {
   "cell_type": "code",
   "execution_count": 15,
   "metadata": {},
   "outputs": [
    {
     "name": "stdout",
     "output_type": "stream",
     "text": [
      "-2*x*exp(-x**2)*exp(-2*y**2)\n"
     ]
    },
    {
     "data": {
      "text/latex": [
       "$\\displaystyle - 2 x e^{- x^{2}} e^{- 2 y^{2}}$"
      ],
      "text/plain": [
       "-2*x*exp(-x**2)*exp(-2*y**2)"
      ]
     },
     "execution_count": 15,
     "metadata": {},
     "output_type": "execute_result"
    }
   ],
   "source": [
    "F2 = sympy.exp(-x**2)*sympy.exp(-2*y**2) - 0.25\n",
    "\n",
    "dF2_dx = sympy.diff(F2, x)\n",
    "dF2_dy = sympy.diff(F2, y)\n",
    "\n",
    "print(dF2_dx)\n",
    "dF2_dx"
   ]
  },
  {
   "cell_type": "code",
   "execution_count": 16,
   "metadata": {},
   "outputs": [
    {
     "name": "stdout",
     "output_type": "stream",
     "text": [
      "-4*y*exp(-x**2)*exp(-2*y**2)\n"
     ]
    },
    {
     "data": {
      "text/latex": [
       "$\\displaystyle - 4 y e^{- x^{2}} e^{- 2 y^{2}}$"
      ],
      "text/plain": [
       "-4*y*exp(-x**2)*exp(-2*y**2)"
      ]
     },
     "execution_count": 16,
     "metadata": {},
     "output_type": "execute_result"
    }
   ],
   "source": [
    "print(dF2_dy)\n",
    "dF2_dy"
   ]
  },
  {
   "cell_type": "markdown",
   "metadata": {},
   "source": [
    "### Начинаем решать "
   ]
  },
  {
   "cell_type": "markdown",
   "metadata": {},
   "source": [
    "Зададим начальное приближение x"
   ]
  },
  {
   "cell_type": "code",
   "execution_count": 17,
   "metadata": {},
   "outputs": [
    {
     "data": {
      "text/plain": [
       "array([0.5, 0.3])"
      ]
     },
     "execution_count": 17,
     "metadata": {},
     "output_type": "execute_result"
    }
   ],
   "source": [
    "x = np.array([0.5,\n",
    "              0.3])  \n",
    "\n",
    "x    "
   ]
  },
  {
   "cell_type": "markdown",
   "metadata": {},
   "source": [
    "Зададим матрицу Якоби"
   ]
  },
  {
   "cell_type": "code",
   "execution_count": 18,
   "metadata": {},
   "outputs": [
    {
     "data": {
      "text/plain": [
       "array([[ 1.        ,  0.6       ],\n",
       "       [-0.65050909, -0.78061091]])"
      ]
     },
     "execution_count": 18,
     "metadata": {},
     "output_type": "execute_result"
    }
   ],
   "source": [
    "## Напишем функцию, которая будет рассчитывать матрицу Якоби\n",
    "\n",
    "\n",
    "def Jacob(x):\n",
    "    '''\n",
    "    Рассчёт Якобиана в точке x, y\n",
    "    x - вектор-столбец (np.array)\n",
    "    x[0] – это x (в старых обозначениях)\n",
    "    x[1] – это y (в старых обозначениях)\n",
    "    '''\n",
    "    J_11 = 2 * x[0]\n",
    "    J_12 = 2 * x[1]\n",
    "    J_21 = -2 * x[0] * np.exp(- (x[0] ** 2)) * np.exp(-2* x[1] **2)\n",
    "    J_22 = -4 * x[1] * np.exp(- (x[0]**2)) * np.exp(-2* (x[1]**2))\n",
    "\n",
    "    J = np.array([\n",
    "                    [J_11, J_12],\n",
    "                    [J_21, J_22]\n",
    "                ])\n",
    "    \n",
    "    return J\n",
    "\n",
    "Jacob(x)"
   ]
  },
  {
   "cell_type": "markdown",
   "metadata": {},
   "source": [
    "Зададим функции"
   ]
  },
  {
   "cell_type": "code",
   "execution_count": 19,
   "metadata": {},
   "outputs": [],
   "source": [
    "def f_1(x):\n",
    "    '''    \n",
    "    x - вектор-столбец в формате np.array\n",
    "    '''\n",
    "    return np.exp(-(x[0]**2)) * np.exp(-2*(x[1]**2)) - 0.25\n",
    "\n",
    "def f_2(x):\n",
    "    '''    \n",
    "    x - вектор-столбец в формате np.array\n",
    "    '''\n",
    "    return x[0]**2 + x[1]**2 - 1\n",
    "    "
   ]
  },
  {
   "cell_type": "markdown",
   "metadata": {},
   "source": [
    "$$F(x) = [f_1(x), f_2(x), ..., f_n(x)]^{T}$$"
   ]
  },
  {
   "cell_type": "code",
   "execution_count": 20,
   "metadata": {},
   "outputs": [
    {
     "data": {
      "text/plain": [
       "array([ 0.40050909, -0.66      ])"
      ]
     },
     "execution_count": 20,
     "metadata": {},
     "output_type": "execute_result"
    }
   ],
   "source": [
    "def F(x):\n",
    "    '''\n",
    "    Функция рассчитывает значение вектора F\n",
    "    в точке (x,y)\n",
    "    Для этого считаем значение equation и equation1\n",
    "    '''\n",
    "    answer = np.array([\n",
    "                      f_1(x),\n",
    "                      f_2(x)\n",
    "                      ])\n",
    "    \n",
    "    return answer\n",
    "\n",
    "\n",
    "F(x)"
   ]
  },
  {
   "cell_type": "code",
   "execution_count": 21,
   "metadata": {},
   "outputs": [
    {
     "name": "stdout",
     "output_type": "stream",
     "text": [
      "[ 0.21357178 -1.02346812]\n"
     ]
    }
   ],
   "source": [
    "import numpy as np\n",
    "\n",
    "\n",
    "\n",
    "x1 = np.linalg.solve(Jacob(x), -F(x))\n",
    "\n",
    "print(x1)"
   ]
  },
  {
   "cell_type": "code",
   "execution_count": 22,
   "metadata": {},
   "outputs": [
    {
     "name": "stderr",
     "output_type": "stream",
     "text": [
      "  6%|▌         | 3/50 [00:00<00:00, 11915.64it/s]"
     ]
    },
    {
     "name": "stdout",
     "output_type": "stream",
     "text": [
      "Singular matrix. Stopping the iteration.\n"
     ]
    },
    {
     "name": "stderr",
     "output_type": "stream",
     "text": [
      "\n"
     ]
    },
    {
     "data": {
      "text/plain": [
       "array([-5204459.52367745,  -892273.87652737])"
      ]
     },
     "execution_count": 22,
     "metadata": {},
     "output_type": "execute_result"
    }
   ],
   "source": [
    "from tqdm import tqdm\n",
    "\n",
    "def solution(x, eps=1e-5, max_iter=50):\n",
    "    '''\n",
    "    Solves the system of equations using the Newton-Raphson method.\n",
    "    x: initial guess for the solution\n",
    "    eps: tolerance for the solution\n",
    "    max_iter: maximum number of iterations\n",
    "    '''\n",
    "    for i in tqdm(range(max_iter)):\n",
    "        \n",
    "\n",
    "        try:\n",
    "            delta_x = np.linalg.solve(Jacob(x), -F(x))\n",
    "        except np.linalg.LinAlgError:\n",
    "            print(\"Singular matrix. Stopping the iteration.\")\n",
    "            return x\n",
    "        \n",
    "        x = x + delta_x\n",
    "        \n",
    "        #Функция F показывает, насколько далеко наше решение от истинного\n",
    "        if np.linalg.norm(F(x)) < eps:\n",
    "            return x\n",
    "    \n",
    "    print(\"Maximum number of iterations reached. Stopping the iteration.\")\n",
    "    return None\n",
    "\n",
    "#solution(x)\n",
    "solution(np.array([0.5, 0.5]))"
   ]
  },
  {
   "cell_type": "code",
   "execution_count": 23,
   "metadata": {},
   "outputs": [],
   "source": [
    "### декоратор замеряет время функции\n",
    "\n",
    "import time\n",
    "\n",
    "def time_it(func):\n",
    "    def wrapper(*args, **kwargs):\n",
    "        start = time.time()\n",
    "        result = func(*args, **kwargs)\n",
    "        end = time.time()\n",
    "        print(f\"Function {func.__name__} took {end - start} seconds to execute.\")\n",
    "        return result\n",
    "    return wrapper"
   ]
  },
  {
   "cell_type": "code",
   "execution_count": 24,
   "metadata": {},
   "outputs": [
    {
     "name": "stdout",
     "output_type": "stream",
     "text": [
      "4 iterations\n",
      "Solution found:\n",
      "[0.78339367 0.62152583]\n"
     ]
    }
   ],
   "source": [
    "### Код всё в одной ячейке\n",
    "\n",
    "\n",
    "\n",
    "\n",
    "import numpy as np\n",
    "\n",
    "def Jacob(x):\n",
    "    '''\n",
    "    Computes the Jacobian matrix of the system of equations\n",
    "    at the point (x, y).\n",
    "    '''\n",
    "    J_11 = 2 * x[0]\n",
    "    J_12 = 2 * x[1]\n",
    "    J_21 = -2 * x[0] * np.exp(- (x[0] ** 2)) * np.exp(-2* x[1] **2)\n",
    "    J_22 = -4 * x[1] * np.exp(- (x[0]**2)) * np.exp(-2* (x[1]**2))\n",
    "\n",
    "    J = np.array([\n",
    "                    [J_11, J_12],\n",
    "                    [J_21, J_22]\n",
    "                ])\n",
    "    \n",
    "    return J\n",
    "\n",
    "def f(x):\n",
    "    '''    \n",
    "    Computes the system of equations at the point (x, y).\n",
    "    '''\n",
    "    f1 = x[0]**2 + x[1]**2 - 1\n",
    "    f2 = np.exp(-(x[0]**2)) * np.exp(-2*(x[1]**2)) - 0.25\n",
    "    \n",
    "    return np.array([f1, f2])\n",
    "\n",
    "\n",
    "#@time_it\n",
    "def solution(x, eps=1e-5, max_iter=50):\n",
    "    '''\n",
    "    Solves the system of equations using the Newton-Raphson method.\n",
    "    x: initial guess for the solution\n",
    "    eps: tolerance for the solution\n",
    "    max_iter: maximum number of iterations\n",
    "    '''\n",
    "    for i in range(max_iter):\n",
    "        J = Jacob(x)\n",
    "        f_val = f(x)\n",
    "        \n",
    "        # solve the linear system J * delta_x = -f(x)\n",
    "        try:\n",
    "            delta_x = np.linalg.solve(J, -f_val)\n",
    "        except np.linalg.LinAlgError:\n",
    "            print(\"Singular matrix. Stopping the iteration.\")\n",
    "            return None\n",
    "        \n",
    "        x = x + delta_x\n",
    "        \n",
    "        \n",
    "        # check the convergence criterion\n",
    "        if np.linalg.norm(f(x)) < eps:\n",
    "            print(f'{i} iterations')\n",
    "            return x\n",
    "    \n",
    "    print(\"Maximum number of iterations reached. Stopping the iteration.\")\n",
    "    return None\n",
    "\n",
    "# initial guess for the solution\n",
    "x0 = np.array([0.5, 0.5])\n",
    "\n",
    "# solve the system of equations\n",
    "sol = solution(x0)\n",
    "\n",
    "if sol is not None:\n",
    "    print(\"Solution found:\")\n",
    "    print(sol)\n",
    "else:\n",
    "    print(\"No solution found.\")\n",
    "\n",
    "\n",
    "\n",
    "pass"
   ]
  },
  {
   "cell_type": "code",
   "execution_count": 25,
   "metadata": {},
   "outputs": [
    {
     "name": "stdout",
     "output_type": "stream",
     "text": [
      "4 iterations\n"
     ]
    },
    {
     "data": {
      "text/plain": [
       "array([0.78339367, 0.62152583])"
      ]
     },
     "execution_count": 25,
     "metadata": {},
     "output_type": "execute_result"
    }
   ],
   "source": [
    "x0 = np.array([0.5, 0.5])\n",
    "solution(x0)"
   ]
  },
  {
   "cell_type": "code",
   "execution_count": 26,
   "metadata": {},
   "outputs": [
    {
     "name": "stdout",
     "output_type": "stream",
     "text": [
      "Finally\n"
     ]
    }
   ],
   "source": [
    "try:\n",
    "    a = 2 + 2\n",
    "    #10 / 0\n",
    "    #'abc' / 2\n",
    "except ZeroDivisionError: \n",
    "    0 / 10\n",
    "    print('a')\n",
    "except TypeError:\n",
    "    print('hello')\n",
    "finally:\n",
    "    print('Finally')"
   ]
  },
  {
   "cell_type": "code",
   "execution_count": 27,
   "metadata": {},
   "outputs": [
    {
     "name": "stdout",
     "output_type": "stream",
     "text": [
      "1 iterations\n"
     ]
    },
    {
     "data": {
      "text/plain": [
       "array([0.78339367, 0.62152583])"
      ]
     },
     "execution_count": 27,
     "metadata": {},
     "output_type": "execute_result"
    }
   ],
   "source": [
    "#@time_it\n",
    "def solution_rec(x, eps=1e-5, depth=50):\n",
    "    '''\n",
    "    Та же самая функция, но задана рекурсивно\n",
    "    '''\n",
    "    J = Jacob(x)\n",
    "    f_val = f(x)\n",
    "\n",
    "    i = 0\n",
    "\n",
    "    try:\n",
    "        delta_x = np.linalg.solve(J, -f_val)\n",
    "\n",
    "        x = x + delta_x\n",
    "\n",
    "        i += 1\n",
    "\n",
    "        if np.linalg.norm(f(x)) < eps:\n",
    "            print(f'{i} iterations')\n",
    "            return x\n",
    "        elif i <= depth:\n",
    "            return solution_rec(x)\n",
    "            \n",
    "        \n",
    "    except np.linalg.LinAlgError:\n",
    "        print(\"Singular matrix. Stopping the iteration.\")\n",
    "        return x\n",
    "\n",
    "x0 = np.array([0.5, 0.5])\n",
    "\n",
    "solution_rec(x0)"
   ]
  },
  {
   "cell_type": "code",
   "execution_count": 28,
   "metadata": {},
   "outputs": [
    {
     "name": "stdout",
     "output_type": "stream",
     "text": [
      "True\n"
     ]
    }
   ],
   "source": [
    "times = 4.00543212890625e-05 + 7.224082946777344e-05 + 9.965896606445312e-05 + 0.00013208389282226562 + 0.0002129077911376953\n",
    "\n",
    "print(0.0005331039428710938 < times)"
   ]
  },
  {
   "cell_type": "markdown",
   "metadata": {},
   "source": [
    "Первая функция сработала быстрее"
   ]
  },
  {
   "cell_type": "markdown",
   "metadata": {},
   "source": [
    "## Найдём все решения"
   ]
  },
  {
   "cell_type": "code",
   "execution_count": 29,
   "metadata": {},
   "outputs": [
    {
     "name": "stdout",
     "output_type": "stream",
     "text": [
      "4 iterations\n",
      "[0.78339367 0.62152583]\n",
      "\n",
      "4 iterations\n",
      "[ 0.78339367 -0.62152583]\n",
      "\n",
      "4 iterations\n",
      "[-0.78339367  0.62152583]\n",
      "\n",
      "4 iterations\n",
      "[-0.78339367 -0.62152583]\n",
      "\n"
     ]
    }
   ],
   "source": [
    "#Функцией без использования рекурсии\n",
    "\n",
    "for i in [0.5, -0.5]:\n",
    "    for j in [0.5, -0.5]:\n",
    "        #print(f'i = {i}, j = {j}')\n",
    "        x0 = np.array([i, j])\n",
    "        print(solution(x0))\n",
    "        print()"
   ]
  },
  {
   "cell_type": "code",
   "execution_count": 30,
   "metadata": {},
   "outputs": [
    {
     "name": "stdout",
     "output_type": "stream",
     "text": [
      "1 iterations\n",
      "[0.78339367 0.62152583]\n",
      "\n",
      "1 iterations\n",
      "[ 0.78339367 -0.62152583]\n",
      "\n",
      "1 iterations\n",
      "[-0.78339367  0.62152583]\n",
      "\n",
      "1 iterations\n",
      "[-0.78339367 -0.62152583]\n",
      "\n"
     ]
    }
   ],
   "source": [
    "#Функцией c использованием рекурсии\n",
    "\n",
    "for i in [0.5, -0.5]:\n",
    "    for j in [0.5, -0.5]:\n",
    "        #print(f'i = {i}, j = {j}')\n",
    "        x0 = np.array([i, j])\n",
    "        print(solution_rec(x0))\n",
    "        print()"
   ]
  }
 ],
 "metadata": {
  "kernelspec": {
   "display_name": "Python 3.10.6 64-bit",
   "language": "python",
   "name": "python3"
  },
  "language_info": {
   "codemirror_mode": {
    "name": "ipython",
    "version": 3
   },
   "file_extension": ".py",
   "mimetype": "text/x-python",
   "name": "python",
   "nbconvert_exporter": "python",
   "pygments_lexer": "ipython3",
   "version": "3.10.6"
  },
  "orig_nbformat": 4,
  "vscode": {
   "interpreter": {
    "hash": "aee8b7b246df8f9039afb4144a1f6fd8d2ca17a180786b69acc140d282b71a49"
   }
  }
 },
 "nbformat": 4,
 "nbformat_minor": 2
}
