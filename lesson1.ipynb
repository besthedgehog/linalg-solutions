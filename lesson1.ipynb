{
 "cells": [
  {
   "cell_type": "markdown",
   "metadata": {},
   "source": [
    "# Решение системы уравнений методом Гаусса"
   ]
  },
  {
   "cell_type": "markdown",
   "metadata": {},
   "source": [
    "### В рамках данной задачи нам нужно будет работать со строками матрицы, их мы будем реализовавать через списки"
   ]
  },
  {
   "cell_type": "code",
   "execution_count": 1,
   "metadata": {},
   "outputs": [],
   "source": [
    "import numpy as np"
   ]
  },
  {
   "cell_type": "code",
   "execution_count": 62,
   "metadata": {},
   "outputs": [],
   "source": [
    "a = [1,2,3]\n",
    "b = [4,5,6]"
   ]
  },
  {
   "cell_type": "code",
   "execution_count": 19,
   "metadata": {},
   "outputs": [],
   "source": [
    "#Сначала нам нужно написать две функции, которые будут складывать и умножать \n",
    "#Наши векторы на скаляры "
   ]
  },
  {
   "cell_type": "code",
   "execution_count": 64,
   "metadata": {},
   "outputs": [
    {
     "name": "stdout",
     "output_type": "stream",
     "text": [
      "6\n"
     ]
    }
   ],
   "source": [
    "def mult_2(a):\n",
    "    answer = 2 * a\n",
    "    return answer\n",
    "\n",
    "print(mult_2(3))"
   ]
  },
  {
   "cell_type": "code",
   "execution_count": 65,
   "metadata": {},
   "outputs": [],
   "source": [
    "def add_vectors(vec1, vec2):\n",
    "    '''\n",
    "    Функция складывает два вектора одинаковой длины\n",
    "    '''\n",
    "\n",
    "    #Убедимся, что длины векторов равны\n",
    "    assert len(vec1) == len(vec2), 'Длины векторов не равны'\n",
    "\n",
    "    answer = list() #Создадим список, куда будем заносить значения\n",
    "\n",
    "    for i in range(0, len(vec1)):\n",
    "        answer.append(vec1[i]+vec2[i])\n",
    "    \n",
    "    return answer"
   ]
  },
  {
   "cell_type": "code",
   "execution_count": 74,
   "metadata": {},
   "outputs": [
    {
     "data": {
      "text/plain": [
       "3"
      ]
     },
     "execution_count": 74,
     "metadata": {},
     "output_type": "execute_result"
    }
   ],
   "source": [
    "lst = [1,2,3]\n",
    "\n",
    "lst[2]"
   ]
  },
  {
   "cell_type": "code",
   "execution_count": 21,
   "metadata": {},
   "outputs": [],
   "source": [
    "def mult_vector(vec, number):\n",
    "    '''\n",
    "    Функция умножает вектор vеc, на скаляр number\n",
    "    '''    \n",
    "    answer = [i*number for i in vec]\n",
    "    \n",
    "    return answer"
   ]
  },
  {
   "cell_type": "code",
   "execution_count": 22,
   "metadata": {},
   "outputs": [
    {
     "name": "stdout",
     "output_type": "stream",
     "text": [
      "[5, 7, 9]\n"
     ]
    }
   ],
   "source": [
    "print(add_vectors(a,b))"
   ]
  },
  {
   "cell_type": "code",
   "execution_count": 23,
   "metadata": {},
   "outputs": [
    {
     "name": "stdout",
     "output_type": "stream",
     "text": [
      "[2, 4, 6]\n"
     ]
    }
   ],
   "source": [
    "print(mult_vector(a, 2))"
   ]
  },
  {
   "cell_type": "code",
   "execution_count": 100,
   "metadata": {},
   "outputs": [
    {
     "name": "stdout",
     "output_type": "stream",
     "text": [
      "[[ 3.00000000e+00  2.00000000e+00 -5.00000000e+00 -1.00000000e+00]\n",
      " [ 0.00000000e+00 -2.33333333e+00  6.33333333e+00  1.36666667e+01]\n",
      " [ 0.00000000e+00 -2.22044605e-16  4.28571429e+00  1.71428571e+01]]\n",
      "\n",
      "i = 2\n",
      "x = [0. 0. 0.]\n",
      "matrix[i,:n] = [ 0.00000000e+00 -2.22044605e-16  4.28571429e+00]\n",
      "np.dot = 0.0\n",
      "\n",
      "\n",
      "i = 1\n",
      "x = [0. 0. 4.]\n",
      "matrix[i,:n] = [ 0.         -2.33333333  6.33333333]\n",
      "np.dot = 25.333333333333332\n",
      "\n",
      "\n",
      "i = 0\n",
      "x = [0. 5. 4.]\n",
      "matrix[i,:n] = [ 3.  2. -5.]\n",
      "np.dot = -10.0\n",
      "\n",
      "[3. 5. 4.]\n"
     ]
    }
   ],
   "source": [
    "import numpy as np\n",
    "\n",
    "def Gauss(matrix, info=False):\n",
    "    '''\n",
    "    Решение системы уравнений методом Гаусса\n",
    "    info = False (default).\n",
    "    Если info = True, выводится больше информации\n",
    "    об обратном ходе Гаусса\n",
    "    Matrix – матрица коэффициентов и свободных членов (np.array)\n",
    "    '''\n",
    "\n",
    "    #Проверим, что у матрицы существует решение, притом единственное\n",
    "\n",
    "    #system1 – матрица коэффициентов\n",
    "    system1 = np.array(\n",
    "        [line[:-1] for line in matrix]\n",
    "                       )\n",
    "    \n",
    "    det = np.linalg.det(system1)\n",
    "\n",
    "    if np.abs(det) < 10**(-5):\n",
    "        return 'Система не является определённой. Решений нет или бесконечно много'\n",
    "\n",
    "\n",
    "    n = len(matrix) #Число строк в матрице\n",
    "    \n",
    "    matrix = matrix.astype(float)  # convert to float type\n",
    "    \n",
    "    # Прямой ход метода Гаусса\n",
    "    for i in range(n-1):\n",
    "        \n",
    "        #(для первой итерации) из первой строки вычитаем нулевую\n",
    "        #потом из второй стоки вычитаем нулевую\n",
    "        #if info == True:\n",
    "        #    print('Матрица на входе во внутренний цикл')\n",
    "        #    print(matrix)\n",
    "\n",
    "\n",
    "        for j in range(i+1, n):\n",
    "\n",
    "            # Вычисляем множитель, на который будем умножать i-ую строку\n",
    "            # при вычитании ее из j-ой строки\n",
    "            factor = matrix[j,i] / matrix[i,i]\n",
    "            # Вычитаем i-ую строку, умноженную на factor, из j-ой строки\n",
    "            matrix[j] = matrix[j] - factor * matrix[i]\n",
    "\n",
    "        #if info == True:\n",
    "        #    print('После внутреннего цикла')\n",
    "        #    print(matrix)\n",
    "\n",
    "    if info == True:   \n",
    "    #Посмотрим на получившуюся матрицу\n",
    "        print(matrix)\n",
    "\n",
    "\n",
    "    \n",
    "    # Обратный ход метода Гаусса\n",
    "    x = np.zeros(n)\n",
    "\n",
    "    #Цикл от n-1 до 0 (включительно) с шагом -1\n",
    "    #Идём от последней строчки в диагонализованной матрицы к первой\n",
    "    for i in range(n-1, -1, -1): \n",
    "        # Вычисляем значение i-ой неизвестной\n",
    "\n",
    "        #Для детального анализа\n",
    "        if info == True:\n",
    "            print('', f'i = {i}', f'x = {x}', f'matrix[i,:n] = {matrix[i,:n]}', f'np.dot = {np.dot(matrix[i,:n], x)}', '', sep='\\n')\n",
    "\n",
    "        #       (Значение свободного члена - скалярное произведение) / коэффициент при переменной\n",
    "        x[i] = (matrix[i,n] - np.dot(matrix[i,:n], x)) / matrix[i,i]\n",
    "        #При первой итерации цикла np.dot(*) = 0\n",
    "\n",
    "    return x\n",
    "\n",
    "# Example usage:\n",
    "equation = np.array([\n",
    "            [3, 2, -5, -1],\n",
    "            [2, -1, 3, 13],\n",
    "            [1, 2, -1, 9]])\n",
    "\n",
    "\n",
    "print(Gauss(equation, info=True))"
   ]
  },
  {
   "cell_type": "code",
   "execution_count": 98,
   "metadata": {},
   "outputs": [
    {
     "data": {
      "text/plain": [
       "array([3, 2])"
      ]
     },
     "execution_count": 98,
     "metadata": {},
     "output_type": "execute_result"
    }
   ],
   "source": [
    "equation = np.array(\n",
    "                    [\n",
    "                    [3, 2, -5, -1],\n",
    "                    [2, -1, 3, 13],\n",
    "                    [1, 2, -1, 9]\n",
    "                    ]\n",
    "                    )\n",
    "\n",
    "system1 = np.array(\n",
    "    [line[:-1] for line in equation]\n",
    "                    )\n",
    "\n",
    "#np.linalg.det(system1)\n",
    "\n",
    "\n",
    "equation[0,:2]"
   ]
  },
  {
   "cell_type": "markdown",
   "metadata": {},
   "source": [
    "\\begin{bmatrix}\n",
    "1 & 2 & -1 & 9 \\\\\n",
    "0 & 1 & -1 & 1 \\\\\n",
    "0 & 0 & 3 & 12\n",
    "\\end{bmatrix}\n",
    "\n",
    "$$ x = 9 - (-1)*z - 2 * (y)$$\n",
    "$$ x = 9 - (-1,2) * (z,y) $$\n",
    "\n"
   ]
  },
  {
   "cell_type": "code",
   "execution_count": 53,
   "metadata": {},
   "outputs": [
    {
     "name": "stdout",
     "output_type": "stream",
     "text": [
      "Система не является определённой. Решений нет или бесконечно много\n"
     ]
    }
   ],
   "source": [
    "#Проверим наше решение\n",
    "system = np.array(\n",
    "                  [\n",
    "                    [1,2,3,4],\n",
    "                    [5,6,7,8],\n",
    "                    [1,2,3,4]\n",
    "                  ]\n",
    ")\n",
    "\n",
    "print(Gauss(system))\n",
    "\n"
   ]
  },
  {
   "cell_type": "code",
   "execution_count": 51,
   "metadata": {},
   "outputs": [
    {
     "name": "stdout",
     "output_type": "stream",
     "text": [
      "ejal\n"
     ]
    }
   ],
   "source": [
    "A = np.array(\n",
    "    [\n",
    "        [1,2,3],\n",
    "        [5,6,7],\n",
    "        [1,2,3]\n",
    "    ]\n",
    ")\n",
    "a = np.linalg.det(A)\n",
    "\n",
    "if np.abs(a) < np.power(10.0, -5):\n",
    "    print('ejal')"
   ]
  },
  {
   "cell_type": "code",
   "execution_count": 26,
   "metadata": {},
   "outputs": [
    {
     "data": {
      "text/plain": [
       "array([4, 5])"
      ]
     },
     "execution_count": 26,
     "metadata": {},
     "output_type": "execute_result"
    }
   ],
   "source": [
    "A = np.array(\n",
    "    [\n",
    "        [1,2,3],\n",
    "        [4,5,6],\n",
    "        [7,8,9]\n",
    "    ]\n",
    ")\n",
    "A[1,:2]"
   ]
  },
  {
   "cell_type": "code",
   "execution_count": 21,
   "metadata": {},
   "outputs": [
    {
     "name": "stdout",
     "output_type": "stream",
     "text": [
      "[[  1.   1.   1.   0.]\n",
      " [  0.  -4.  -2.   8.]\n",
      " [  0.   0.  -4. -24.]]\n",
      "\n",
      "i = 2\n",
      "x = [0. 0. 0.]\n",
      "matrix[i,:n] = [ 0.  0. -4.]\n",
      "np.dot = 0.0\n",
      "\n",
      "\n",
      "i = 1\n",
      "x = [0. 0. 6.]\n",
      "matrix[i,:n] = [ 0. -4. -2.]\n",
      "np.dot = -12.0\n",
      "\n",
      "\n",
      "i = 0\n",
      "x = [ 0. -5.  6.]\n",
      "matrix[i,:n] = [1. 1. 1.]\n",
      "np.dot = 1.0\n",
      "\n"
     ]
    },
    {
     "data": {
      "text/plain": [
       "array([-1., -5.,  6.])"
      ]
     },
     "execution_count": 21,
     "metadata": {},
     "output_type": "execute_result"
    }
   ],
   "source": [
    "system = np.array(\n",
    "                  [\n",
    "                        [1,1,1,0],\n",
    "                        [8,4,6,8],\n",
    "                        [15,3,5,0]\n",
    "                  ]\n",
    "                 )\n",
    "Gauss(system)"
   ]
  },
  {
   "cell_type": "code",
   "execution_count": 28,
   "metadata": {},
   "outputs": [
    {
     "data": {
      "text/plain": [
       "array([ 2., -2.,  9.])"
      ]
     },
     "execution_count": 28,
     "metadata": {},
     "output_type": "execute_result"
    }
   ],
   "source": [
    "#Для проверки решения через sympy\n",
    "\n",
    "\n",
    "import numpy as np\n",
    "from scipy import linalg\n",
    "\n",
    "\n",
    "a = np.array(\n",
    "            [\n",
    "                [3, 2, 0], \n",
    "                [1, -1, 0], \n",
    "                [0, 5, 1]\n",
    "            ]\n",
    "            )\n",
    "\n",
    "b = np.array(\n",
    "            [2,\n",
    "             4, \n",
    "            -1]\n",
    "             )\n",
    "#x = linalg.solve(a, b)\n",
    "\n",
    "#np.dot(a, x) == b\n",
    "linalg.solve(a, b)"
   ]
  },
  {
   "cell_type": "code",
   "execution_count": 112,
   "metadata": {},
   "outputs": [
    {
     "data": {
      "text/plain": [
       "array([[ 3,  2, -5, -1],\n",
       "       [ 2, -1,  3, 13],\n",
       "       [ 1,  2, -1,  9]])"
      ]
     },
     "execution_count": 112,
     "metadata": {},
     "output_type": "execute_result"
    }
   ],
   "source": [
    "#Дело за малым – прочитать из файла \n",
    "\n",
    "with open('numbers.txt', 'r') as f:\n",
    "    content = [i.replace('\\n', '') for i in f.readlines()]\n",
    "\n",
    "content\n",
    "\n",
    "num_of_eq = int(content[0])\n",
    "\n",
    "\n",
    "our_matrix = list()\n",
    "\n",
    "#Пробегаем циклом по строчкам (исключая нулевую строку)\n",
    "for k in range(1, num_of_eq+1):\n",
    "    #      превращ. в целочисленое знач.     #делит string на список \n",
    "    lst = [int(number) for number in content[k].split()] #[ 3,  2, -5, -1]\n",
    "\n",
    "    #объединим в список списоков\n",
    "    our_matrix.append(lst)\n",
    "\n",
    "np.array(our_matrix)"
   ]
  }
 ],
 "metadata": {
  "kernelspec": {
   "display_name": "Python 3.10.6 64-bit",
   "language": "python",
   "name": "python3"
  },
  "language_info": {
   "codemirror_mode": {
    "name": "ipython",
    "version": 3
   },
   "file_extension": ".py",
   "mimetype": "text/x-python",
   "name": "python",
   "nbconvert_exporter": "python",
   "pygments_lexer": "ipython3",
   "version": "3.10.6"
  },
  "orig_nbformat": 4,
  "vscode": {
   "interpreter": {
    "hash": "aee8b7b246df8f9039afb4144a1f6fd8d2ca17a180786b69acc140d282b71a49"
   }
  }
 },
 "nbformat": 4,
 "nbformat_minor": 2
}
