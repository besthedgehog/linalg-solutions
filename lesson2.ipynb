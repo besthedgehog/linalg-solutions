{
 "cells": [
  {
   "cell_type": "code",
   "execution_count": 1,
   "metadata": {},
   "outputs": [
    {
     "name": "stdout",
     "output_type": "stream",
     "text": [
      "Hello\n"
     ]
    }
   ],
   "source": [
    "print('Hello')"
   ]
  },
  {
   "cell_type": "markdown",
   "metadata": {},
   "source": [
    "## Занятие 2. Решение уравнения методом дихотомии"
   ]
  },
  {
   "cell_type": "markdown",
   "metadata": {},
   "source": [
    "# Вариант 4"
   ]
  },
  {
   "cell_type": "markdown",
   "metadata": {},
   "source": [
    "$$ S_2 + 4CO_2 =  2SO_2 + 4CO $$\n",
    "\n",
    "$$\n",
    "ln(K_p) = a + \\frac{b}{T} + c*ln(T) + d*T + e * T^2 + g*T^3\n",
    "$$"
   ]
  },
  {
   "cell_type": "code",
   "execution_count": 2,
   "metadata": {},
   "outputs": [],
   "source": [
    "import pandas as pd\n",
    "import numpy as np\n",
    "import matplotlib.pyplot as plt"
   ]
  },
  {
   "cell_type": "code",
   "execution_count": 3,
   "metadata": {},
   "outputs": [
    {
     "name": "stdout",
     "output_type": "stream",
     "text": [
      "power + 1 = 1\n",
      "arg = -0.0016961\n",
      "\n",
      "power + 1 = 2\n",
      "arg = 1.6831e-07\n",
      "\n",
      "power + 1 = 3\n",
      "arg = -8.4044e-12\n",
      "\n"
     ]
    },
    {
     "data": {
      "text/plain": [
       "1.9944615270287954e-61"
      ]
     },
     "execution_count": 3,
     "metadata": {},
     "output_type": "execute_result"
    }
   ],
   "source": [
    "#Константы для 4 реакции\n",
    "#Для температуры 300-6000 К\n",
    "a = 19.2415\n",
    "b = - 49257.0\n",
    "c = 0.99497\n",
    "d = - 1.6961 * 10**(-3)\n",
    "e = 1.6831 * 10**(-7)\n",
    "g = - 8.4044 *10**(-12)\n",
    "\n",
    "#constants = [a,b,c,d,e,g]\n",
    "\n",
    "\n",
    "#Как задать функцию в более общем виде? \n",
    "def K(T, *args):\n",
    "    '''\n",
    "    Функцию вычисляет константу при заданной температуре\n",
    "    '''\n",
    "    answer = args[0] + args[1]/T + args[2]* np.log(T)\n",
    "\n",
    "\n",
    "    #Напишем в максимально общем виде, функция принимает любое число аргументов\n",
    "    for power, arg in enumerate(args[3:]):\n",
    "        print(f'power + 1 = {power + 1}')\n",
    "        print(f'arg = {arg}')\n",
    "        print()\n",
    "        answer += arg*T**(power+1)\n",
    "    \n",
    "    return np.exp(answer)\n",
    "\n",
    "K(300, a,b,c,d,e,g)"
   ]
  },
  {
   "cell_type": "code",
   "execution_count": 4,
   "metadata": {},
   "outputs": [
    {
     "data": {
      "text/plain": [
       "1.9944615270287954e-61"
      ]
     },
     "execution_count": 4,
     "metadata": {},
     "output_type": "execute_result"
    }
   ],
   "source": [
    "#Теперь зададим функцию попроще\n",
    "def Kp(T):\n",
    "    '''\n",
    "    Функцию вычисляет константу при заданной температуре\n",
    "    '''\n",
    "\n",
    "    #На самом деле a,b,c,d,e,g – константы. \n",
    "    # Не имеет смысла задавать их как параметры функции\n",
    "    #Задидим их прямо внутри функции\n",
    "    a = 19.2415\n",
    "    b = - 49257.0\n",
    "    c = 0.99497\n",
    "    d = - 1.6961 * 10**(-3)\n",
    "    e = 1.6831 * 10**(-7)\n",
    "    g = - 8.4044 *10**(-12)\n",
    "\n",
    "    return np.exp(a + b / T + c * np.log(T) + d*T + e * T**2 + g * T**3)\n",
    "\n",
    "\n",
    "Kp(300)"
   ]
  },
  {
   "cell_type": "markdown",
   "metadata": {},
   "source": [
    "$$ S_2 + 4CO_2 =  2SO_2 + 4CO $$\n",
    "\n",
    "Путь $ x $ – количетство вступившего в реакцию $ S_2 $"
   ]
  },
  {
   "cell_type": "code",
   "execution_count": 5,
   "metadata": {},
   "outputs": [
    {
     "data": {
      "text/html": [
       "<div>\n",
       "<style scoped>\n",
       "    .dataframe tbody tr th:only-of-type {\n",
       "        vertical-align: middle;\n",
       "    }\n",
       "\n",
       "    .dataframe tbody tr th {\n",
       "        vertical-align: top;\n",
       "    }\n",
       "\n",
       "    .dataframe thead th {\n",
       "        text-align: right;\n",
       "    }\n",
       "</style>\n",
       "<table border=\"1\" class=\"dataframe\">\n",
       "  <thead>\n",
       "    <tr style=\"text-align: right;\">\n",
       "      <th></th>\n",
       "      <th>Вещество</th>\n",
       "      <th>Начальное количетсво</th>\n",
       "      <th>Прореагировало</th>\n",
       "      <th>Равновесное количество</th>\n",
       "      <th>Парциальное давление</th>\n",
       "    </tr>\n",
       "  </thead>\n",
       "  <tbody>\n",
       "    <tr>\n",
       "      <th>S2</th>\n",
       "      <td>S2</td>\n",
       "      <td>a</td>\n",
       "      <td>-x</td>\n",
       "      <td>a - x</td>\n",
       "      <td>P * (a-x) / (a+b+c+d + x)</td>\n",
       "    </tr>\n",
       "    <tr>\n",
       "      <th>CO2</th>\n",
       "      <td>CO2</td>\n",
       "      <td>b</td>\n",
       "      <td>-4x</td>\n",
       "      <td>b - 4x</td>\n",
       "      <td>P * (b-4x) / (a+b+c+d + x)</td>\n",
       "    </tr>\n",
       "    <tr>\n",
       "      <th>SO2</th>\n",
       "      <td>SO2</td>\n",
       "      <td>c</td>\n",
       "      <td>2x</td>\n",
       "      <td>c + 2x</td>\n",
       "      <td>P * (c+2x) / (a+b+c+d + x)</td>\n",
       "    </tr>\n",
       "    <tr>\n",
       "      <th>CO</th>\n",
       "      <td>CO</td>\n",
       "      <td>d</td>\n",
       "      <td>4x</td>\n",
       "      <td>d + 4x</td>\n",
       "      <td>P * (d+4x) / (a+b+c+d + x)</td>\n",
       "    </tr>\n",
       "  </tbody>\n",
       "</table>\n",
       "</div>"
      ],
      "text/plain": [
       "    Вещество Начальное количетсво Прореагировало Равновесное количество  \\\n",
       "S2        S2                    a             -x                  a - x   \n",
       "CO2      CO2                    b            -4x                 b - 4x   \n",
       "SO2      SO2                    c             2x                 c + 2x   \n",
       "CO        CO                    d             4x                 d + 4x   \n",
       "\n",
       "           Парциальное давление  \n",
       "S2    P * (a-x) / (a+b+c+d + x)  \n",
       "CO2  P * (b-4x) / (a+b+c+d + x)  \n",
       "SO2  P * (c+2x) / (a+b+c+d + x)  \n",
       "CO   P * (d+4x) / (a+b+c+d + x)  "
      ]
     },
     "execution_count": 5,
     "metadata": {},
     "output_type": "execute_result"
    }
   ],
   "source": [
    "tabel1 = pd.DataFrame(\n",
    "                      {\n",
    "                        'Вещество' : ['S2', 'CO2', 'SO2', 'CO'],\n",
    "                        'Начальное количетсво' : ['a', 'b', 'c', 'd'],\n",
    "                        'Прореагировало' : ['-x', '-4x', '2x', '4x'],\n",
    "                        'Равновесное количество' : ['a - x', 'b - 4x', 'c + 2x', 'd + 4x'],\n",
    "                        'Парциальное давление' : ['P * (a-x) / (a+b+c+d + x)',\n",
    "                                                  'P * (b-4x) / (a+b+c+d + x)',\n",
    "                                                  'P * (c+2x) / (a+b+c+d + x)',\n",
    "                                                  'P * (d+4x) / (a+b+c+d + x)']\n",
    "                      }, index=['S2', 'CO2', 'SO2', 'CO']\n",
    ")\n",
    "\n",
    "tabel1"
   ]
  },
  {
   "cell_type": "markdown",
   "metadata": {},
   "source": [
    "Обратим внимание на ограничения на x\n",
    "\n",
    "$$x < a, x < b/4 $$\n",
    "$$ x > - c / 2, x > -d/4 $$\n",
    "\n",
    "Перепишем в виде\n",
    "\n",
    "$$ max(-c/2, -d/4) < x< min(a, b/4) $$"
   ]
  },
  {
   "cell_type": "markdown",
   "metadata": {},
   "source": [
    "$$\n",
    "K_p = \\frac{P^2(SO_2)P^4(CO)}{P(S_2)P^4(CO_2)} = P * \\frac{(c+2x)^2 * (d + 4x)^4}{(a - x)(d + 4x)^4(a+b+c+d + x)}\n",
    "$$"
   ]
  },
  {
   "cell_type": "code",
   "execution_count": 6,
   "metadata": {},
   "outputs": [
    {
     "data": {
      "text/latex": [
       "$\\displaystyle \\frac{P \\left(c_{0} + 2 x\\right)^{2} \\left(d_{0} + 4 x\\right)^{4}}{\\left(a_{0} - x\\right) \\left(b_{0} - 4 x\\right)^{4} \\left(a_{0} + b_{0} + c_{0} + d_{0} + x\\right)}$"
      ],
      "text/plain": [
       "P*(c0 + 2*x)**2*(d0 + 4*x)**4/((a0 - x)*(b0 - 4*x)**4*(a0 + b0 + c0 + d0 + x))"
      ]
     },
     "execution_count": 6,
     "metadata": {},
     "output_type": "execute_result"
    }
   ],
   "source": [
    "#На всякий случай проверим наши выкладки с помошью SymPy\n",
    "\n",
    "from sympy import symbols\n",
    "\n",
    "# Определение переменных\n",
    "P, a, b, c, d, x = symbols('P a0 b0 c0 d0 x')\n",
    "\n",
    "# Определение выражений для переменных\n",
    "p_so2 = P * (c + 2*x) / (a + b + c + d + x)\n",
    "p_co = P * (d + 4*x) / (a + b + c + d + x)\n",
    "p_s2 = P * (a - x) / (a + b + c + d + x)\n",
    "p_co2 = P * (b - 4*x) / (a + b + c + d + x)\n",
    "\n",
    "# Определение выражения для искомого значения\n",
    "expression = (p_so2)**2 * (p_co)**4 / ((p_s2) * (p_co2)**4)\n",
    "\n",
    "# Вычисление значения выражения\n",
    "result = expression.simplify()\n",
    "\n",
    "result"
   ]
  },
  {
   "cell_type": "code",
   "execution_count": 7,
   "metadata": {},
   "outputs": [
    {
     "data": {
      "text/latex": [
       "$\\displaystyle \\frac{K \\left(a_{0} - x\\right) \\left(b_{0} - 4 x\\right)^{4} \\left(a_{0} + b_{0} + c_{0} + d_{0} + x\\right) - P \\left(c_{0} + 2 x\\right)^{2} \\left(d_{0} + 4 x\\right)^{4}}{\\left(a_{0} - x\\right) \\left(b_{0} - 4 x\\right)^{4} \\left(a_{0} + b_{0} + c_{0} + d_{0} + x\\right)}$"
      ],
      "text/plain": [
       "(K*(a0 - x)*(b0 - 4*x)**4*(a0 + b0 + c0 + d0 + x) - P*(c0 + 2*x)**2*(d0 + 4*x)**4)/((a0 - x)*(b0 - 4*x)**4*(a0 + b0 + c0 + d0 + x))"
      ]
     },
     "execution_count": 7,
     "metadata": {},
     "output_type": "execute_result"
    }
   ],
   "source": [
    "import sympy\n",
    "\n",
    "K = sympy.Symbol('K')\n",
    "\n",
    "(K - result).simplify()"
   ]
  },
  {
   "cell_type": "markdown",
   "metadata": {},
   "source": [
    "Отсюда видим, что \n",
    "\n",
    "$$\n",
    "x ≠ a\n",
    "$$\n",
    "$$\n",
    "x ≠ \\frac{b}{4}\n",
    "$$\n",
    "$$\n",
    "- x ≠ a + b + c + d\n",
    "$$\n",
    "\n",
    "Теперь можно избавиться от знаменателя"
   ]
  },
  {
   "cell_type": "code",
   "execution_count": 8,
   "metadata": {},
   "outputs": [
    {
     "data": {
      "text/latex": [
       "$\\displaystyle K \\left(a_{0} - x\\right) \\left(b_{0} - 4 x\\right)^{4} \\left(a_{0} + b_{0} + c_{0} + d_{0} + x\\right) - P \\left(c_{0} + 2 x\\right)^{2} \\left(d_{0} + 4 x\\right)^{4}$"
      ],
      "text/plain": [
       "K*(a0 - x)*(b0 - 4*x)**4*(a0 + b0 + c0 + d0 + x) - P*(c0 + 2*x)**2*(d0 + 4*x)**4"
      ]
     },
     "execution_count": 8,
     "metadata": {},
     "output_type": "execute_result"
    }
   ],
   "source": [
    "eq1 = (K*(a - x)*(b - 4*x)**4*(a + b + c + d + x) - P*(c + 2*x)**2*(d + 4*x)**4)\n",
    "\n",
    "eq1"
   ]
  },
  {
   "cell_type": "code",
   "execution_count": 9,
   "metadata": {},
   "outputs": [
    {
     "name": "stdout",
     "output_type": "stream",
     "text": [
      "K*(a0 - x)*(b0 - 4*x)**4 - 16*K*(a0 - x)*(b0 - 4*x)**3*(a0 + b0 + c0 + d0 + x) - K*(b0 - 4*x)**4*(a0 + b0 + c0 + d0 + x) - 16*P*(c0 + 2*x)**2*(d0 + 4*x)**3 - P*(4*c0 + 8*x)*(d0 + 4*x)**4\n"
     ]
    }
   ],
   "source": [
    "eq1_diff = sympy.diff(eq1, x)\n",
    "\n",
    "print(eq1_diff)"
   ]
  },
  {
   "cell_type": "code",
   "execution_count": 10,
   "metadata": {},
   "outputs": [
    {
     "data": {
      "text/latex": [
       "$\\displaystyle - 32 K \\left(a_{0} - x\\right) \\left(b_{0} - 4 x\\right)^{3} + 192 K \\left(a_{0} - x\\right) \\left(b_{0} - 4 x\\right)^{2} \\left(a_{0} + b_{0} + c_{0} + d_{0} + x\\right) - 2 K \\left(b_{0} - 4 x\\right)^{4} + 32 K \\left(b_{0} - 4 x\\right)^{3} \\left(a_{0} + b_{0} + c_{0} + d_{0} + x\\right) - 192 P \\left(c_{0} + 2 x\\right)^{2} \\left(d_{0} + 4 x\\right)^{2} - 32 P \\left(4 c_{0} + 8 x\\right) \\left(d_{0} + 4 x\\right)^{3} - 8 P \\left(d_{0} + 4 x\\right)^{4}$"
      ],
      "text/plain": [
       "-32*K*(a0 - x)*(b0 - 4*x)**3 + 192*K*(a0 - x)*(b0 - 4*x)**2*(a0 + b0 + c0 + d0 + x) - 2*K*(b0 - 4*x)**4 + 32*K*(b0 - 4*x)**3*(a0 + b0 + c0 + d0 + x) - 192*P*(c0 + 2*x)**2*(d0 + 4*x)**2 - 32*P*(4*c0 + 8*x)*(d0 + 4*x)**3 - 8*P*(d0 + 4*x)**4"
      ]
     },
     "execution_count": 10,
     "metadata": {},
     "output_type": "execute_result"
    }
   ],
   "source": [
    "sympy.diff(eq1_diff, x)"
   ]
  },
  {
   "cell_type": "code",
   "execution_count": 11,
   "metadata": {},
   "outputs": [],
   "source": [
    "def FUNC(x, T = 400, a0 = 1, b0 = 1, c0 = 1, d0 = 1, P = 100):\n",
    "    '''\n",
    "    Производная 2 порядка\n",
    "    '''\n",
    "    K = Kp(T)\n",
    "    return -32*K*(a0 - x)*(b0 - 4*x)**3 + 192*K*(a0 - x)*(b0 - 4*x)**2*(a0 + b0 + c0 + d0 + x) - 2*K*(b0 - 4*x)**4 + 32*K*(b0 - 4*x)**3*(a0 + b0 + c0 + d0 + x) - 192*P*(c0 + 2*x)**2*(d0 + 4*x)**2 - 32*P*(4*c0 + 8*x)*(d0 + 4*x)**3 - 8*P*(d0 + 4*x)**4"
   ]
  },
  {
   "cell_type": "markdown",
   "metadata": {},
   "source": [
    "Решим численно это уравнение\n",
    "\n",
    "$$\n",
    "K(a−x)(b−4x)^4(a+b+c+d+x)−P(c+2x)^2(d+4x)^4 = 0 \n",
    "\n",
    "$$"
   ]
  },
  {
   "cell_type": "code",
   "execution_count": 12,
   "metadata": {},
   "outputs": [
    {
     "data": {
      "text/plain": [
       "-83515220100.0"
      ]
     },
     "execution_count": 12,
     "metadata": {},
     "output_type": "execute_result"
    }
   ],
   "source": [
    "def function(x, T = 400, a0 = 1, b0 = 1, c0 = 1, d0 = 1, P = 100):\n",
    "    '''\n",
    "    Уравнение, которое мы будем численно решать\n",
    "    Должно быть задано в виде f(X) = 0\n",
    "    '''\n",
    "\n",
    "    K = Kp(T) #Вычисляем константу\n",
    "\n",
    "    return K * (a0 - x) * (b0 - 4*x)**4 * (a0 + b0 + c0 + d0 + x) - P * (c0 + 2 * x)**2 * (d0 + 4 * x)**4\n",
    "\n",
    "function(-10)"
   ]
  },
  {
   "cell_type": "code",
   "execution_count": 13,
   "metadata": {},
   "outputs": [
    {
     "data": {
      "text/plain": [
       "Text(0.5, 1.0, 'Корень 2')"
      ]
     },
     "execution_count": 13,
     "metadata": {},
     "output_type": "execute_result"
    },
    {
     "data": {
      "image/png": "[encoded data removed]",
      "text/plain": [
       "<Figure size 1300x1000 with 4 Axes>"
      ]
     },
     "metadata": {},
     "output_type": "display_data"
    }
   ],
   "source": [
    "X = np.linspace(-1, 1, 100)\n",
    "\n",
    "#Визуально найдён корни для этих параметров\n",
    "Y = function(X, a0=0.3, b0=0.6, c0=0.1, d0=0.7)\n",
    "\n",
    "\n",
    "fig, axs = plt.subplots(nrows=2, ncols=2, figsize=(13,10))\n",
    "\n",
    "axs[0,0].plot(X, Y)\n",
    "axs[0,0].grid()\n",
    "\n",
    "\n",
    "X = np.linspace(-0.35, -0.2, 100)\n",
    "Y = function(X)\n",
    "axs[0,1].plot(X, Y)\n",
    "axs[0,1].grid()\n",
    "\n",
    "X = np.linspace(-0.55, -0.45, 100)\n",
    "Y = function(X)\n",
    "axs[1,0].plot(X, Y)\n",
    "axs[1,0].grid()\n",
    "axs[1,0].set_title('Корень 1')\n",
    "\n",
    "X = np.linspace(-0.255, -0.245, 100)\n",
    "Y = function(X)\n",
    "axs[1,1].plot(X, Y)\n",
    "axs[1,1].grid()\n",
    "axs[1,1].set_title('Корень 2')"
   ]
  },
  {
   "cell_type": "markdown",
   "metadata": {},
   "source": [
    "__Теорёма__\n",
    "\n",
    "Если $f(x) \\in C([a,b]) $ и $f(a)*f(b) < 0$, то $ \\exists x_0 : f(x_o) = 0 $"
   ]
  },
  {
   "cell_type": "code",
   "execution_count": 14,
   "metadata": {},
   "outputs": [
    {
     "data": {
      "text/plain": [
       "-0.049996948242187506"
      ]
     },
     "execution_count": 14,
     "metadata": {},
     "output_type": "execute_result"
    },
    {
     "data": {
      "image/png": "[encoded data removed]",
      "text/plain": [
       "<Figure size 640x480 with 1 Axes>"
      ]
     },
     "metadata": {},
     "output_type": "display_data"
    }
   ],
   "source": [
    "def dichotomy(func, e = 10**(-5), draw=False, **kwargs): #__version__ = 4.0 \n",
    "    '''\n",
    "    Функция численно находит корень уравнения методом дихотомии\n",
    "    '''\n",
    "    __version__ = 4.0\n",
    "\n",
    "    #Убедимся, что корень вообще есть на отрезке\n",
    "    #assert func(A, **kwargs) * func(B, **kwargs) < 0, 'корня на отрезке нет'\n",
    "\n",
    "    \n",
    "    #У нас по условию х должен лежать в интервале\n",
    "    left_border = np.maximum(\n",
    "                             - kwargs['c0'] / 2,\n",
    "                             - kwargs['d0'] / 4\n",
    "                            )\n",
    "    right_border = np.minimum(\n",
    "                             kwargs['a0'],\n",
    "                             kwargs['b0'] / 4\n",
    "                             )\n",
    "\n",
    "    if draw == True:\n",
    "        X = np.linspace(left_border, right_border, 100)\n",
    "        Y = function(X, **kwargs)\n",
    "        plt.plot(X, Y)\n",
    "    \n",
    "    B = right_border\n",
    "    A = left_border\n",
    "\n",
    "    while (B - A) > e:\n",
    "        middle_point = (B + A) / 2 #Точка в середине \n",
    "\n",
    "        if func(A, **kwargs)*func(middle_point, **kwargs) < 0:\n",
    "            B = middle_point\n",
    "        else:\n",
    "            A = middle_point\n",
    "        \n",
    "    return (A+B) / 2\n",
    "\n",
    "dichotomy(function, draw=True, a0=0.3, b0=0.6, c0=0.1, d0=0.7)"
   ]
  },
  {
   "cell_type": "code",
   "execution_count": 15,
   "metadata": {},
   "outputs": [
    {
     "data": {
      "text/plain": [
       "-2.328533818536711e-10"
      ]
     },
     "execution_count": 15,
     "metadata": {},
     "output_type": "execute_result"
    }
   ],
   "source": [
    "function(-0.049996948242187506, a0=0.3, b0=0.6, c0=0.1, d0=0.7)"
   ]
  },
  {
   "cell_type": "code",
   "execution_count": 16,
   "metadata": {},
   "outputs": [
    {
     "name": "stdout",
     "output_type": "stream",
     "text": [
      "[-0.25] [-0.5]\n"
     ]
    },
    {
     "data": {
      "text/plain": [
       "array([-0.25])"
      ]
     },
     "execution_count": 16,
     "metadata": {},
     "output_type": "execute_result"
    }
   ],
   "source": [
    "#Готовые численные методы решения уравнений\n",
    "from scipy.optimize import fsolve\n",
    "\n",
    "# Использование функции fsolve для решения уравнения\n",
    "#Задаём функцию и начальное приближение\n",
    "\n",
    "solution1 = fsolve(function, 0)\n",
    "solution2 = fsolve(function, -2) \n",
    "\n",
    "print(solution1, solution2)\n",
    "\n",
    "fsolve(function, 0.05, args=(400, 1, 1, 1, 1, 100))"
   ]
  },
  {
   "cell_type": "code",
   "execution_count": 17,
   "metadata": {},
   "outputs": [
    {
     "name": "stdout",
     "output_type": "stream",
     "text": [
      "1.1408300655531156e-41\n",
      "6.468506471686165e-41\n"
     ]
    },
    {
     "data": {
      "text/plain": [
       "-33.1797656826832"
      ]
     },
     "execution_count": 17,
     "metadata": {},
     "output_type": "execute_result"
    }
   ],
   "source": [
    "print(function(-0.25))\n",
    "print(function(-0.5))\n",
    "\n",
    "#Наше решение\n",
    "function(-0.04999732971191406)"
   ]
  },
  {
   "cell_type": "code",
   "execution_count": 18,
   "metadata": {},
   "outputs": [
    {
     "data": {
      "text/plain": [
       "[-0.500000000000000,\n",
       " -0.500000000000000,\n",
       " -0.250000000006498,\n",
       " -0.249999999993502,\n",
       " -0.25 - 6.49770882749059e-12*I,\n",
       " -0.25 + 6.49770882749059e-12*I]"
      ]
     },
     "execution_count": 18,
     "metadata": {},
     "output_type": "execute_result"
    }
   ],
   "source": [
    "from sympy import symbols, Eq, solve\n",
    "\n",
    "x = symbols('x')\n",
    "\n",
    "# Уравнение\n",
    "equation = Eq(function(x), 0)\n",
    "\n",
    "# Решение уравнения\n",
    "solutions = solve(equation, x)\n",
    "\n",
    "# Вывод численных значений решений\n",
    "#numeric_solutions = [float(sol.evalf()) for sol in solutions]\n",
    "#print(numeric_solutions)  # Вывод решений\n",
    "solutions"
   ]
  },
  {
   "cell_type": "code",
   "execution_count": 19,
   "metadata": {},
   "outputs": [
    {
     "name": "stdout",
     "output_type": "stream",
     "text": [
      "a1 = 100\n",
      "b1 = 20\n",
      "100\n",
      "Something new\n",
      "100\n"
     ]
    },
    {
     "data": {
      "text/plain": [
       "True"
      ]
     },
     "execution_count": 19,
     "metadata": {},
     "output_type": "execute_result"
    }
   ],
   "source": [
    "#Для объяснения концепции **kwargs\n",
    "\n",
    "def function1(x, a1 = 1, b1 = 2):\n",
    "    print(f'a1 = {a1}')\n",
    "    print(f'b1 = {b1}')\n",
    "    return 2 * x\n",
    "\n",
    "def METAfunc(y, T = 50, P = 100, **kwargs):\n",
    "    print(function1(T, **kwargs))\n",
    "    print('Something new')\n",
    "    print(kwargs['a1']) #Обращение как к словарю\n",
    "    return True\n",
    "\n",
    "METAfunc(19, a1=100, b1=20)"
   ]
  },
  {
   "cell_type": "code",
   "execution_count": 20,
   "metadata": {},
   "outputs": [
    {
     "name": "stdout",
     "output_type": "stream",
     "text": [
      "-0.049994621866268504\n",
      "-7.232325159780906e-10\n"
     ]
    },
    {
     "data": {
      "image/png": "[encoded data removed]",
      "text/plain": [
       "<Figure size 640x480 with 1 Axes>"
      ]
     },
     "metadata": {},
     "output_type": "display_data"
    }
   ],
   "source": [
    "#Попробуем написать функцию, которая будет решать методом Ньютона\n",
    "\n",
    "def function(x, T = 400, a0 = 1, b0 = 1, c0 = 1, d0 = 1, P = 100):\n",
    "    '''\n",
    "    Уравнение, которое мы будем численно решать\n",
    "    Должно быть задано в виде f(X) = 0\n",
    "    '''\n",
    "\n",
    "    K = Kp(T) #Вычисляем константу\n",
    "\n",
    "    return K * (a0 - x) * (b0 - 4*x)**4 * (a0 + b0 + c0 + d0 + x) - P * (c0 + 2 * x)**2 * (d0 + 4 * x)**4\n",
    "\n",
    "\n",
    "def function_diff(x, T = 400, a0 = 1, b0 = 1, c0 = 1, d0 = 1, P = 100):\n",
    "    '''\n",
    "    Производная нашей функции\n",
    "    '''\n",
    "    K = Kp(T)\n",
    "\n",
    "    return K*(a0 - x)*(b0 - 4*x)**4 - 16*K*(a0 - x)*(b0 - 4*x)**3*(a0 + b0 + c0 + d0 + x) - K*(b0 - 4*x)**4*(a0 + b0 + c0 + d0 + x) - 16*P*(c0 + 2*x)**2*(d0 + 4*x)**3 - P*(4*c0 + 8*x)*(d0 + 4*x)**4\n",
    "\n",
    "def Neuton(eps = 10**(-9), draw=False, **kwargs):\n",
    "    '''\n",
    "    Решение методом Ньютона\n",
    "    '''\n",
    "\n",
    "    #Наши условия\n",
    "    left_border = np.maximum(\n",
    "                             - kwargs['c0'] / 2,\n",
    "                             - kwargs['d0'] / 4\n",
    "                            )\n",
    "    right_border = np.minimum(\n",
    "                             kwargs['a0'],\n",
    "                             kwargs['b0'] / 4\n",
    "                             ) \n",
    "    \n",
    "    #Выберем начальную точку в середине нашего интервала\n",
    "    x0 = (left_border + right_border) / 2\n",
    "\n",
    "    \n",
    "    y = function(x0, **kwargs)\n",
    "    y_diff = function_diff(x0, **kwargs)\n",
    "\n",
    "    while np.abs(y) > eps:\n",
    "\n",
    "        x0 = x0 - y / y_diff\n",
    "        y = function(x0, **kwargs)\n",
    "        y_diff = function_diff(x0, **kwargs)\n",
    "    \n",
    "    #print(f'from {left_border} to {right_border}')\n",
    "    #print(right_border)\n",
    "\n",
    "    if draw == True:\n",
    "        X = np.linspace(left_border, right_border, 100)\n",
    "        Y = function(X, **kwargs)\n",
    "        Y1 = function_diff(X, **kwargs)\n",
    "        Y2 = FUNC(X, **kwargs)\n",
    "        plt.plot(X, Y, label='Function')\n",
    "        plt.plot(X, Y1, label='Derivative')\n",
    "        #plt.plot(X, Y2, label='2 - Derivative')\n",
    "        plt.legend()\n",
    "\n",
    "    return x0\n",
    "\n",
    "print(Neuton(a0=0.3, b0=0.6, c0=0.1, d0=0.7, draw=True))\n",
    "\n",
    "#Посмотрим на значение функции\n",
    "print(function(-0.049994621866268504, a0=0.3, b0=0.6, c0=0.1, d0=0.7))\n",
    "#print(function(-0.25, a0=0.3, b0=0.6, c0=0.1, d0=0.7))"
   ]
  },
  {
   "cell_type": "markdown",
   "metadata": {},
   "source": [
    "$$ S_2 + 4CO_2 =  2SO_2 + 4CO $$"
   ]
  },
  {
   "cell_type": "code",
   "execution_count": 21,
   "metadata": {},
   "outputs": [
    {
     "data": {
      "text/html": [
       "<div>\n",
       "<style scoped>\n",
       "    .dataframe tbody tr th:only-of-type {\n",
       "        vertical-align: middle;\n",
       "    }\n",
       "\n",
       "    .dataframe tbody tr th {\n",
       "        vertical-align: top;\n",
       "    }\n",
       "\n",
       "    .dataframe thead th {\n",
       "        text-align: right;\n",
       "    }\n",
       "</style>\n",
       "<table border=\"1\" class=\"dataframe\">\n",
       "  <thead>\n",
       "    <tr style=\"text-align: right;\">\n",
       "      <th></th>\n",
       "      <th>S2</th>\n",
       "      <th>CO2</th>\n",
       "      <th>SO2</th>\n",
       "      <th>CO</th>\n",
       "    </tr>\n",
       "  </thead>\n",
       "  <tbody>\n",
       "    <tr>\n",
       "      <th>Исх. состав</th>\n",
       "      <td>0</td>\n",
       "      <td>0</td>\n",
       "      <td>0</td>\n",
       "      <td>0</td>\n",
       "    </tr>\n",
       "    <tr>\n",
       "      <th>Равнов. состав</th>\n",
       "      <td>0</td>\n",
       "      <td>0</td>\n",
       "      <td>0</td>\n",
       "      <td>0</td>\n",
       "    </tr>\n",
       "    <tr>\n",
       "      <th>Парц. давления</th>\n",
       "      <td>0</td>\n",
       "      <td>0</td>\n",
       "      <td>0</td>\n",
       "      <td>0</td>\n",
       "    </tr>\n",
       "  </tbody>\n",
       "</table>\n",
       "</div>"
      ],
      "text/plain": [
       "                S2  CO2  SO2  CO\n",
       "Исх. состав      0    0    0   0\n",
       "Равнов. состав   0    0    0   0\n",
       "Парц. давления   0    0    0   0"
      ]
     },
     "execution_count": 21,
     "metadata": {},
     "output_type": "execute_result"
    }
   ],
   "source": [
    "# Сделаем табличку\n",
    "answer = pd.DataFrame(\n",
    "                      {\n",
    "                        'S2' : [0, 0, 0],\n",
    "                        'CO2' : [0, 0, 0],\n",
    "                        'SO2' : [0, 0, 0],\n",
    "                        'CO' : [0, 0, 0]\n",
    "                      }, index=['Исх. состав', 'Равнов. состав', 'Парц. давления']\n",
    "                      )\n",
    "\n",
    "answer"
   ]
  },
  {
   "cell_type": "code",
   "execution_count": 22,
   "metadata": {},
   "outputs": [
    {
     "data": {
      "text/html": [
       "<div>\n",
       "<style scoped>\n",
       "    .dataframe tbody tr th:only-of-type {\n",
       "        vertical-align: middle;\n",
       "    }\n",
       "\n",
       "    .dataframe tbody tr th {\n",
       "        vertical-align: top;\n",
       "    }\n",
       "\n",
       "    .dataframe thead th {\n",
       "        text-align: right;\n",
       "    }\n",
       "</style>\n",
       "<table border=\"1\" class=\"dataframe\">\n",
       "  <thead>\n",
       "    <tr style=\"text-align: right;\">\n",
       "      <th></th>\n",
       "      <th>S2</th>\n",
       "      <th>CO2</th>\n",
       "      <th>SO2</th>\n",
       "      <th>CO</th>\n",
       "    </tr>\n",
       "  </thead>\n",
       "  <tbody>\n",
       "    <tr>\n",
       "      <th>Исх. состав</th>\n",
       "      <td>1</td>\n",
       "      <td>2</td>\n",
       "      <td>3</td>\n",
       "      <td>4</td>\n",
       "    </tr>\n",
       "    <tr>\n",
       "      <th>Равнов. состав</th>\n",
       "      <td>0</td>\n",
       "      <td>0</td>\n",
       "      <td>0</td>\n",
       "      <td>0</td>\n",
       "    </tr>\n",
       "    <tr>\n",
       "      <th>Парц. давления</th>\n",
       "      <td>0</td>\n",
       "      <td>0</td>\n",
       "      <td>0</td>\n",
       "      <td>0</td>\n",
       "    </tr>\n",
       "  </tbody>\n",
       "</table>\n",
       "</div>"
      ],
      "text/plain": [
       "                S2  CO2  SO2  CO\n",
       "Исх. состав      1    2    3   4\n",
       "Равнов. состав   0    0    0   0\n",
       "Парц. давления   0    0    0   0"
      ]
     },
     "execution_count": 22,
     "metadata": {},
     "output_type": "execute_result"
    }
   ],
   "source": [
    "answer.loc['Исх. состав'] = [1,2,3,4]\n",
    "\n",
    "answer"
   ]
  },
  {
   "cell_type": "code",
   "execution_count": 23,
   "metadata": {},
   "outputs": [
    {
     "data": {
      "text/html": [
       "<div>\n",
       "<style scoped>\n",
       "    .dataframe tbody tr th:only-of-type {\n",
       "        vertical-align: middle;\n",
       "    }\n",
       "\n",
       "    .dataframe tbody tr th {\n",
       "        vertical-align: top;\n",
       "    }\n",
       "\n",
       "    .dataframe thead th {\n",
       "        text-align: right;\n",
       "    }\n",
       "</style>\n",
       "<table border=\"1\" class=\"dataframe\">\n",
       "  <thead>\n",
       "    <tr style=\"text-align: right;\">\n",
       "      <th></th>\n",
       "      <th>Вещество</th>\n",
       "      <th>Начальное количетсво</th>\n",
       "      <th>Прореагировало</th>\n",
       "      <th>Равновесное количество</th>\n",
       "      <th>Парциальное давление</th>\n",
       "    </tr>\n",
       "  </thead>\n",
       "  <tbody>\n",
       "    <tr>\n",
       "      <th>S2</th>\n",
       "      <td>S2</td>\n",
       "      <td>a</td>\n",
       "      <td>-x</td>\n",
       "      <td>a - x</td>\n",
       "      <td>P * (a-x) / (a+b+c+d + x)</td>\n",
       "    </tr>\n",
       "    <tr>\n",
       "      <th>CO2</th>\n",
       "      <td>CO2</td>\n",
       "      <td>b</td>\n",
       "      <td>-4x</td>\n",
       "      <td>b - 4x</td>\n",
       "      <td>P * (b-4x) / (a+b+c+d + x)</td>\n",
       "    </tr>\n",
       "    <tr>\n",
       "      <th>SO2</th>\n",
       "      <td>SO2</td>\n",
       "      <td>c</td>\n",
       "      <td>2x</td>\n",
       "      <td>c + 2x</td>\n",
       "      <td>P * (c+2x) / (a+b+c+d + x)</td>\n",
       "    </tr>\n",
       "    <tr>\n",
       "      <th>CO</th>\n",
       "      <td>CO</td>\n",
       "      <td>d</td>\n",
       "      <td>4x</td>\n",
       "      <td>d + 4x</td>\n",
       "      <td>P * (d+4x) / (a+b+c+d + x)</td>\n",
       "    </tr>\n",
       "  </tbody>\n",
       "</table>\n",
       "</div>"
      ],
      "text/plain": [
       "    Вещество Начальное количетсво Прореагировало Равновесное количество  \\\n",
       "S2        S2                    a             -x                  a - x   \n",
       "CO2      CO2                    b            -4x                 b - 4x   \n",
       "SO2      SO2                    c             2x                 c + 2x   \n",
       "CO        CO                    d             4x                 d + 4x   \n",
       "\n",
       "           Парциальное давление  \n",
       "S2    P * (a-x) / (a+b+c+d + x)  \n",
       "CO2  P * (b-4x) / (a+b+c+d + x)  \n",
       "SO2  P * (c+2x) / (a+b+c+d + x)  \n",
       "CO   P * (d+4x) / (a+b+c+d + x)  "
      ]
     },
     "execution_count": 23,
     "metadata": {},
     "output_type": "execute_result"
    }
   ],
   "source": [
    "tabel1"
   ]
  },
  {
   "cell_type": "code",
   "execution_count": 24,
   "metadata": {},
   "outputs": [
    {
     "data": {
      "text/html": [
       "<div>\n",
       "<style scoped>\n",
       "    .dataframe tbody tr th:only-of-type {\n",
       "        vertical-align: middle;\n",
       "    }\n",
       "\n",
       "    .dataframe tbody tr th {\n",
       "        vertical-align: top;\n",
       "    }\n",
       "\n",
       "    .dataframe thead th {\n",
       "        text-align: right;\n",
       "    }\n",
       "</style>\n",
       "<table border=\"1\" class=\"dataframe\">\n",
       "  <thead>\n",
       "    <tr style=\"text-align: right;\">\n",
       "      <th></th>\n",
       "      <th>S2</th>\n",
       "      <th>CO2</th>\n",
       "      <th>SO2</th>\n",
       "      <th>CO</th>\n",
       "    </tr>\n",
       "  </thead>\n",
       "  <tbody>\n",
       "    <tr>\n",
       "      <th>Исх. состав</th>\n",
       "      <td>0.300000</td>\n",
       "      <td>0.600000</td>\n",
       "      <td>0.100000</td>\n",
       "      <td>0.700000</td>\n",
       "    </tr>\n",
       "    <tr>\n",
       "      <th>Равнов. состав</th>\n",
       "      <td>0.349995</td>\n",
       "      <td>0.799978</td>\n",
       "      <td>0.000011</td>\n",
       "      <td>0.500022</td>\n",
       "    </tr>\n",
       "    <tr>\n",
       "      <th>Парц. давления</th>\n",
       "      <td>21.211726</td>\n",
       "      <td>48.483387</td>\n",
       "      <td>0.000652</td>\n",
       "      <td>30.304235</td>\n",
       "    </tr>\n",
       "  </tbody>\n",
       "</table>\n",
       "</div>"
      ],
      "text/plain": [
       "                       S2        CO2       SO2         CO\n",
       "Исх. состав      0.300000   0.600000  0.100000   0.700000\n",
       "Равнов. состав   0.349995   0.799978  0.000011   0.500022\n",
       "Парц. давления  21.211726  48.483387  0.000652  30.304235"
      ]
     },
     "execution_count": 24,
     "metadata": {},
     "output_type": "execute_result"
    }
   ],
   "source": [
    "#Здесь вводим с клавиатуры количества веществ \n",
    "N_S2 = 0.3\n",
    "N_CO2 = 0.6\n",
    "N_SO2 = 0.1 \n",
    "N_CO = 0.7\n",
    "T1 = 400 #Температура в Кельвинах\n",
    "P1 = 100 #Давление в атмосферах\n",
    "\n",
    "answer.iloc[0] = [N_S2, N_CO2, N_SO2, N_CO]\n",
    "\n",
    "#Находим х\n",
    "W = Neuton(a0 = N_S2, b0 = N_CO2, c0=N_SO2, d0=N_CO, T=T1, P=P1)\n",
    "\n",
    "answer.iloc[1] = [N_S2 - W,\n",
    "                  N_CO2 - 4 * W,\n",
    "                  N_SO2 + 2*W,\n",
    "                  N_CO + 4 *W]\n",
    "\n",
    "\n",
    "answer.iloc[2] = answer.iloc[1] * P1 / (sum([N_S2, N_CO2, N_SO2, N_CO]) + W)\n",
    "\n",
    "answer"
   ]
  },
  {
   "cell_type": "code",
   "execution_count": 25,
   "metadata": {},
   "outputs": [
    {
     "name": "stdout",
     "output_type": "stream",
     "text": [
      "-7.232325159780906e-10\n",
      "-0.1296000000000001\n"
     ]
    }
   ],
   "source": [
    "print(function(-0.049994621866268504, a0=0.3, b0=0.6, c0=0.1, d0=0.7))\n",
    "print(function(-0.25, a0=0.3, b0=0.6, c0=0.1, d0=0.7))"
   ]
  }
 ],
 "metadata": {
  "kernelspec": {
   "display_name": "Python 3.10.6 64-bit",
   "language": "python",
   "name": "python3"
  },
  "language_info": {
   "codemirror_mode": {
    "name": "ipython",
    "version": 3
   },
   "file_extension": ".py",
   "mimetype": "text/x-python",
   "name": "python",
   "nbconvert_exporter": "python",
   "pygments_lexer": "ipython3",
   "version": "3.10.6"
  },
  "orig_nbformat": 4,
  "vscode": {
   "interpreter": {
    "hash": "aee8b7b246df8f9039afb4144a1f6fd8d2ca17a180786b69acc140d282b71a49"
   }
  }
 },
 "nbformat": 4,
 "nbformat_minor": 2
}
